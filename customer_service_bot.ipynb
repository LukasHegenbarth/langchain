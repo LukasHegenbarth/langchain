{
 "cells": [
  {
   "cell_type": "code",
   "execution_count": null,
   "metadata": {},
   "outputs": [],
   "source": [
    "import os\n",
    "import openai\n",
    "from dotenv import load_dotenv, find_dotenv\n",
    "\n",
    "load_dotenv(find_dotenv())\n",
    "openai.api_key = os.getenv(\"OPENAI_API_KEY\")"
   ]
  },
  {
   "cell_type": "markdown",
   "metadata": {},
   "source": [
    "# Select the model you want to use"
   ]
  },
  {
   "cell_type": "code",
   "execution_count": null,
   "metadata": {},
   "outputs": [],
   "source": [
    "from langchain.chat_models import ChatOpenAI\n",
    "\n",
    "model = ChatOpenAI(model='gpt-3.5-turbo', temperature=0.0)\n"
   ]
  },
  {
   "cell_type": "markdown",
   "metadata": {},
   "source": [
    "# Use Sequential Chains to build a customer service agent"
   ]
  },
  {
   "cell_type": "code",
   "execution_count": null,
   "metadata": {},
   "outputs": [],
   "source": [
    "# fill in your review here\n",
    "review = \"\"\"\n",
    "I was on the fence for a long time about getting these. The price was definitely a scare factor. However I recently bought an Apple Watch and the headphones compliment the watch perfectly. Especially for exercise. The AirPods Pro sound very good for their size. Battery life is acceptable and I can easily connect them to my Apple TV, Watch, iPhone etc…\n",
    "They stay in place (I’m a commuter cyclist) with no issues and have never fallen out at the gym either. I will say the volume control on mine is quite finicky but I don’t know if that’s an isolated issue with mine. I love how loud these get as well as the ability to bring the charging case to ‘top up’ the AirPod Pros on the go. If using with an iPhone, you can wander a fair distance away before any connection issues happen. Which is great. Cleaning them is a breeze too. By far my favourite feature is the noise cancelling option. Pretty much worth the price of admission by its self.\"\"\""
   ]
  },
  {
   "cell_type": "code",
   "execution_count": null,
   "metadata": {},
   "outputs": [],
   "source": [
    "from langchain import PromptTemplate\n",
    "from langchain.prompts.chat import (\n",
    "    ChatPromptTemplate,\n",
    "    SystemMessagePromptTemplate,\n",
    "    AIMessagePromptTemplate,\n",
    "    HumanMessagePromptTemplate,\n",
    ")\n",
    "from langchain.chains import LLMChain, SequentialChain\n",
    "from langchain.output_parsers import (\n",
    "    ResponseSchema,\n",
    "    StructuredOutputParser,\n",
    ")\n",
    "\n",
    "\n",
    "template=\"\"\"Interprete the text and evaluate the text.\n",
    "sentiment: is the text positive, negative or neutral?\n",
    "subject: What is the subject of the text? Use exactly one word not two or more.\n",
    "\n",
    "Format the output as JSON with the following keys:\n",
    "sentiment\n",
    "subject\n",
    "\"\"\"\n",
    "system_message_prompt = SystemMessagePromptTemplate.from_template(template)\n",
    "\n",
    "human_template=\"{text}\"\n",
    "human_message_prompt = HumanMessagePromptTemplate.from_template(human_template)\n",
    "\n",
    "chat_prompt = ChatPromptTemplate.from_messages([system_message_prompt, human_message_prompt])\n",
    "\n",
    "sentiment_schema = ResponseSchema(name=\"sentiment\", description=\"Is the text positive, negative or neutral? only provide these word\")\n",
    "subject_schema = ResponseSchema(name=\"subject\", description=\"What is the subject of the text? Use exactly one word.\")\n",
    "# price_schema = ResponseSchema(name=\"price\", description=\"What is the price of the product?\")\n",
    "\n",
    "response_schemas = [sentiment_schema, subject_schema]\n",
    "\n",
    "parser = StructuredOutputParser.from_response_schemas(response_schemas)\n",
    "format_instructions = parser.get_format_instructions()\n",
    "\n",
    "\n",
    "\n",
    "# using a chain to run the prompt\n",
    "chain = LLMChain(llm=model, prompt=chat_prompt)\n",
    "response = chain.run(text=review)\n",
    "\n",
    "\n",
    "\n",
    "# response_template = \"\"\"\n",
    "# You are a helpful bot that creates a 'thank you' reponse text. \n",
    "# If customers are unsatisfied, offer them a real world assitant to talk to. \n",
    "# You will get a sentiment and subject as into and evaluate. \n",
    "\n",
    "# text: {input}\n",
    "# \"\"\"\n",
    "\n",
    "# response_system_message_prompt = SystemMessagePromptTemplate.from_template(response_template)\n",
    "# response_human_message_prompt = HumanMessagePromptTemplate.from_template(response)\n",
    "\n"
   ]
  },
  {
   "cell_type": "code",
   "execution_count": null,
   "metadata": {},
   "outputs": [],
   "source": [
    "output_dict = parser.parse(response)\n",
    "output_dict"
   ]
  },
  {
   "cell_type": "code",
   "execution_count": null,
   "metadata": {},
   "outputs": [],
   "source": []
  },
  {
   "cell_type": "code",
   "execution_count": null,
   "metadata": {},
   "outputs": [],
   "source": []
  }
 ],
 "metadata": {
  "kernelspec": {
   "display_name": "Python 3 (ipykernel)",
   "language": "python",
   "name": "python3"
  },
  "language_info": {
   "codemirror_mode": {
    "name": "ipython",
    "version": 3
   },
   "file_extension": ".py",
   "mimetype": "text/x-python",
   "name": "python",
   "nbconvert_exporter": "python",
   "pygments_lexer": "ipython3",
   "version": "3.10.12"
  }
 },
 "nbformat": 4,
 "nbformat_minor": 2
}
